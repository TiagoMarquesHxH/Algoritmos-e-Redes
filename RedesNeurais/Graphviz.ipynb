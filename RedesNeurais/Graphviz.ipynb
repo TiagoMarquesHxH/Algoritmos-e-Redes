{
 "cells": [
  {
   "cell_type": "code",
   "execution_count": 3,
   "id": "4b735e84-9d18-4a0a-a7b4-c66e3e922941",
   "metadata": {},
   "outputs": [],
   "source": [
    "try:\n",
    "    import graphviz\n",
    "except ModuleNotFoundError:\n",
    "    import sys\n",
    "    !{sys.executable} -m pip install graphviz"
   ]
  },
  {
   "cell_type": "code",
   "execution_count": null,
   "id": "daf279ff-ffe1-4b69-883d-39bde26029f3",
   "metadata": {},
   "outputs": [],
   "source": []
  }
 ],
 "metadata": {
  "kernelspec": {
   "display_name": "ilumpy",
   "language": "python",
   "name": "ilumpy"
  },
  "language_info": {
   "codemirror_mode": {
    "name": "ipython",
    "version": 3
   },
   "file_extension": ".py",
   "mimetype": "text/x-python",
   "name": "python",
   "nbconvert_exporter": "python",
   "pygments_lexer": "ipython3",
   "version": "3.9.7"
  }
 },
 "nbformat": 4,
 "nbformat_minor": 5
}
