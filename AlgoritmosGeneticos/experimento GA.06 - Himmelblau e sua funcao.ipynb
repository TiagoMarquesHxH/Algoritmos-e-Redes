{
 "cells": [
  {
   "cell_type": "markdown",
   "metadata": {},
   "source": [
    "experimento GA.06 - Himmelblau e sua funcao\n",
    "========================================\n",
    "\n"
   ]
  },
  {
   "cell_type": "markdown",
   "metadata": {},
   "source": [
    "## Introdução\n",
    "\n"
   ]
  },
  {
   "cell_type": "markdown",
   "metadata": {},
   "source": [
    "Delete este texto e escreva uma breve introdução sobre seu experimento."
   ]
  },
  {
   "cell_type": "markdown",
   "metadata": {},
   "source": [
    "## Objetivo\n",
    "\n"
   ]
  },
  {
   "cell_type": "markdown",
   "metadata": {},
   "source": [
    "Delete este texto e escreva seu objetivo.\n",
    "\n"
   ]
  },
  {
   "cell_type": "markdown",
   "metadata": {},
   "source": [
    "## Importações\n",
    "\n"
   ]
  },
  {
   "cell_type": "markdown",
   "metadata": {},
   "source": [
    "Todos os comandos de `import` devem estar dentro desta seção.\n",
    "\n"
   ]
  },
  {
   "cell_type": "code",
   "execution_count": 1,
   "metadata": {},
   "outputs": [],
   "source": [
    "from funcoes import Himmelblau as f_him\n",
    "from funcoes import funcao_objetivo_himmelblau as fobh\n",
    "from funcoes import gene_him as gene\n",
    "from funcoes import individuo_him\n",
    "from funcoes import populacao_him\n",
    "from funcoes import selecao_torneio_him as selecao\n",
    "from funcoes import mutacao_him as mutacao\n",
    "from funcoes import cruzamento_him as cruzamento\n",
    "import random"
   ]
  },
  {
   "cell_type": "markdown",
   "metadata": {},
   "source": [
    "## Códigos e discussão\n",
    "\n"
   ]
  },
  {
   "cell_type": "markdown",
   "metadata": {},
   "source": [
    "#### A definição das constantes\n",
    "\n",
    "Na célula abaixo, defini as constantes que são fundamentais para a construção do algoritmo e sua utilização nas funções, incluindo o tamanho da população, que arbitráriamente defini que conterá 100 indivíduos, o número de genes que estes indivíduos podem ter, que serão 2 visto que temos as coordenadas X e Y, as chances de mutação e cruzamento e o número de gerações."
   ]
  },
  {
   "cell_type": "code",
   "execution_count": 2,
   "metadata": {},
   "outputs": [],
   "source": [
    "# Constantes\n",
    "\n",
    "TAMANHO_POP = 100\n",
    "N_GENES = 2  # Quantidade de genes que um indivíduo pode ter, e no caso temos 2, pois um para X e outro para Y\n",
    "GERACOES = 1000\n",
    "CHANCE_MUTACAO = 0.05\n",
    "CHANCE_CRUZAMENTO = 0.5\n"
   ]
  },
  {
   "cell_type": "markdown",
   "metadata": {},
   "source": [
    "#### Funções locais\n",
    "\n",
    "Como esta função de cálculo de fitness e sua atribuição para uma lista de valores fitness é algo relativamente simples, fiz sua implementação como função local."
   ]
  },
  {
   "cell_type": "code",
   "execution_count": 3,
   "metadata": {},
   "outputs": [],
   "source": [
    "# Funções Locais\n",
    "\n",
    "def funcao_obj(populacao):\n",
    "    \"\"\" Função que calcula o fitness de uma população baseado na função Himmelblau, e passa estes valores para uma lista\n",
    "    \n",
    "    Args:\n",
    "        população: lista de indivíduos a terem seus fitness calculados\n",
    "        \n",
    "    Returns:\n",
    "        Uma lista contendo os valores de fitness da população\n",
    "    \"\"\"\n",
    "    \n",
    "\n",
    "    fit = []\n",
    "    for i in populacao:\n",
    "        individuo = fobh(i)\n",
    "        fit.append(individuo)\n",
    "    return fit"
   ]
  },
  {
   "cell_type": "markdown",
   "metadata": {},
   "source": [
    "#### Construção do raciocínio para estruturar o algoritmo\n",
    "\n",
    "Pelo cálculo diferencial básico, sabemos que para encontrarmos um **mínimo global** de uma função, calculamos a sua derivada de segunda ordem. Porém, podemos nos basear no conceito de **minimização** em algoritmos genéticos para encontrarmos estes pontos de mínimo.\n",
    "\n",
    "Para isso, vamos analisar o seguinte: se queremos encontrar um único ponto mínimo por minimização, temos que dar vários palpites de indivíduos que represente um ponto naquela função, e então analisar o fitness que a função retornará daquele ponto. A partir disso já conseguimos definir que um indivíduo será formado por 2 genes, com valores para X e para Y, e estes genes terão um valor aleatório, visto que estamos dando um palpite de ponto no plano. Algo muito semelhante foi visto no experimento de descobrir uma senha, logo, tive como base algumas funções presentes naquele algoritmo.\n",
    "\n",
    "Um ponto muito importante, é entender que **a própria função Himmelblau, quando receber os valores de X e Y, retornará um valor que será o fitness** usado para calcular o quão bom é aquele indivíduo para resolver nosso problema. Assim, passamos um indivíduo para a função Himmelblau, esta retornará um valor de fitness, e baseado em comparações dos fitness dos indivíduos que formam a população, encontraremos uma função na qual o fitness será 0, representando o mínimo global da função. "
   ]
  },
  {
   "cell_type": "code",
   "execution_count": 4,
   "metadata": {},
   "outputs": [
    {
     "name": "stdout",
     "output_type": "stream",
     "text": [
      "[2.817650150043339, 2.1008866679972837]  - fitness: 0.9750594160322016\n",
      "[2.944236164372984, 2.1008866679972837]  - fitness: 0.18130629097063644\n",
      "[2.944236164372984, 1.9901332679473127]  - fitness: 0.12556345745459216\n",
      "[2.944236164372984, 2.0582268962136006]  - fitness: 0.10725622514719027\n",
      "[2.944236164372984, 2.032065491046512]  - fitness: 0.09505122133431566\n",
      "[2.974318058022709, 2.032065491046512]  - fitness: 0.025464514095131494\n",
      "[2.9804968929846742, 2.032065491046512]  - fitness: 0.019205752075182714\n",
      "[2.9804968929846742, 1.996849847249993]  - fitness: 0.015379278091449513\n",
      "[3.0112595429368785, 1.996849847249993]  - fitness: 0.0041663938949655244\n",
      "[2.996227348218421, 1.996849847249993]  - fitness: 0.0009319461229574181\n",
      "[3.0046506658056704, 1.996849847249993]  - fitness: 0.0006768678972995472\n",
      "[3.003670981816955, 1.996849847249993]  - fitness: 0.00043636356547511774\n",
      "\n",
      "O melhor palpite de valores para X e para Y para o minimo global encontrado foi:\n",
      "[3.003670981816955, 1.996849847249993]\n"
     ]
    }
   ],
   "source": [
    "populacao = populacao_him(TAMANHO_POP, N_GENES)\n",
    "\n",
    "melhor_fitness_ja_visto = float(\"inf\")\n",
    "\n",
    "for n in range(GERACOES):\n",
    "    \n",
    "    #Processo de seleção\n",
    "    \n",
    "    fitness = funcao_obj(populacao)\n",
    "    \n",
    "    populacao = selecao(populacao, fitness)\n",
    "    \n",
    "    #Processo de Cruzamento\n",
    "    \n",
    "    pais = populacao[0::2]\n",
    "    maes = populacao[1::2]\n",
    "    \n",
    "    contador = 0\n",
    "    \n",
    "    for pai, mae in zip(pais, maes):\n",
    "        if random.random() <= CHANCE_CRUZAMENTO:\n",
    "            filho1, filho2 = cruzamento(pai, mae)\n",
    "            populacao[contador] = filho1\n",
    "            populacao[contador + 1] = filho2\n",
    "            \n",
    "        contador = contador + 2\n",
    "        \n",
    "    # Processo de Mutação\n",
    "    for n in range(len(populacao)):\n",
    "        if random.random() <= CHANCE_MUTACAO:\n",
    "            individuo = populacao[n]\n",
    "            populacao[n] = mutacao(individuo)\n",
    "            \n",
    "    # Melhor individuo já visto até agora\n",
    "    fitness = funcao_obj(populacao)\n",
    "    menor_fitness = min(fitness)\n",
    "    if menor_fitness < melhor_fitness_ja_visto:\n",
    "        posicao = fitness.index(menor_fitness)\n",
    "        melhor_individuo_ja_visto = populacao[posicao].copy()\n",
    "        melhor_fitness_ja_visto = menor_fitness\n",
    "        print((melhor_individuo_ja_visto), \" - fitness:\", melhor_fitness_ja_visto)\n",
    "        \n",
    "print()\n",
    "print(\"O melhor palpite de valores para X e para Y para o minimo global encontrado foi:\")\n",
    "print(melhor_individuo_ja_visto)"
   ]
  },
  {
   "cell_type": "markdown",
   "metadata": {},
   "source": [
    "## Conclusão\n",
    "\n"
   ]
  },
  {
   "cell_type": "markdown",
   "metadata": {},
   "source": [
    "**O problema abordado neste experimento envolve o desenvolvimento de um método, via algoritmos genéticos, para se encontrar o mínimo global da função Himmelblau, função esta que possui 4 pontos de mínimo global idênticas. De inicio, percebe-se que o problema se trata de um problema de minimização, visto que queremos minimizar o valor de f(x) para até um par de pontos X e Y onde a derivada segunda seja igual a zero, caracterizando o ponto mínimo global. Com isso, tive como base um experimento já abordado anteriormente sobre descobrir uma senha devido à similaridade com este problema de minimização.**\n",
    "\n",
    "**Para encontrar o mínimo, primeiro considerei que os valores que os genes podem assumir devem ser *.float*, o qual multipliquei por 10 para poder ter o valor dentro do range possível onde podem estar os valores de ponto mínimo.**\n",
    "\n",
    "**Também alterei um pequeno parâmetro nas mutações para que o gene do indivíduo mutado seja um valor válido (.float multiplicado por 10)**\n",
    "\n",
    "**Ao final, vemos que neste problema de minimização, o algoritmo consegue encontrar o ponto mínimo da função porém necessita de um número não tão baixo de gerações para que isto ocorra, mostrando que este algoritmo é probabilístico.\n",
    "Outros métodos, como calcular a derivada segunda da função podem ser mais eficientes, dada a ordem e a complexidade da função**"
   ]
  },
  {
   "cell_type": "markdown",
   "metadata": {},
   "source": [
    "## Referências consultadas\n",
    "\n"
   ]
  },
  {
   "cell_type": "markdown",
   "metadata": {},
   "source": [
    "[1]  Wirsansky - 2020 - Hands-On Genectic Algorithms with Python Applying."
   ]
  },
  {
   "cell_type": "markdown",
   "metadata": {},
   "source": [
    "## Playground\n",
    "\n"
   ]
  },
  {
   "cell_type": "markdown",
   "metadata": {},
   "source": [
    "Todo código de teste que não faz parte do seu experimento deve vir aqui. Este código não será considerado na avaliação.\n",
    "\n"
   ]
  }
 ],
 "metadata": {
  "kernelspec": {
   "display_name": "ilumpy",
   "language": "python",
   "name": "ilumpy"
  },
  "language_info": {
   "codemirror_mode": {
    "name": "ipython",
    "version": 3
   },
   "file_extension": ".py",
   "mimetype": "text/x-python",
   "name": "python",
   "nbconvert_exporter": "python",
   "pygments_lexer": "ipython3",
   "version": "3.9.7"
  },
  "org": null
 },
 "nbformat": 4,
 "nbformat_minor": 4
}
