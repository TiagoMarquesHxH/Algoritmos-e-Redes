{
 "cells": [
  {
   "cell_type": "markdown",
   "metadata": {},
   "source": [
    "experimento GA.06 - Himmelblau e sua funcao\n",
    "========================================\n",
    "\n"
   ]
  },
  {
   "cell_type": "markdown",
   "metadata": {},
   "source": [
    "## Introdução\n",
    "\n"
   ]
  },
  {
   "cell_type": "markdown",
   "metadata": {},
   "source": [
    "Delete este texto e escreva uma breve introdução sobre seu experimento."
   ]
  },
  {
   "cell_type": "markdown",
   "metadata": {},
   "source": [
    "## Objetivo\n",
    "\n"
   ]
  },
  {
   "cell_type": "markdown",
   "metadata": {},
   "source": [
    "Delete este texto e escreva seu objetivo.\n",
    "\n"
   ]
  },
  {
   "cell_type": "markdown",
   "metadata": {},
   "source": [
    "## Importações\n",
    "\n"
   ]
  },
  {
   "cell_type": "markdown",
   "metadata": {},
   "source": [
    "Todos os comandos de `import` devem estar dentro desta seção.\n",
    "\n"
   ]
  },
  {
   "cell_type": "code",
   "execution_count": 1,
   "metadata": {},
   "outputs": [],
   "source": [
    "from funcoes import Himmelblau as f_him\n",
    "from funcoes import funcao_objetivo_himmelblau as fobh\n",
    "from funcoes import gene_him as gene\n",
    "from funcoes import individuo_him\n",
    "from funcoes import populacao_him\n",
    "from funcoes import selecao_torneio_him as selecao\n",
    "from funcoes import mutacao_him as mutacao\n",
    "from funcoes import cruzamento_him as cruzamento\n",
    "import random"
   ]
  },
  {
   "cell_type": "markdown",
   "metadata": {},
   "source": [
    "## Códigos e discussão\n",
    "\n"
   ]
  },
  {
   "cell_type": "markdown",
   "metadata": {},
   "source": [
    "#### A definição das constantes\n",
    "\n",
    "Na célula abaixo, defini as constantes que são fundamentais para a construção do algoritmo e sua utilização nas funções, incluindo o tamanho da população, que arbitráriamente defini que conterá 100 indivíduos, o número de genes que estes indivíduos podem ter, que serão 2 visto que temos as coordenadas X e Y, as chances de mutação e cruzamento e o número de gerações."
   ]
  },
  {
   "cell_type": "code",
   "execution_count": 2,
   "metadata": {},
   "outputs": [],
   "source": [
    "# Constantes\n",
    "\n",
    "TAMANHO_POP = 100\n",
    "N_GENES = 2  # Quantidade de genes que um indivíduo pode ter, e no caso temos 2, pois um para X e outro para Y\n",
    "GERACOES = 1000\n",
    "CHANCE_MUTACAO = 0.05\n",
    "CHANCE_CRUZAMENTO = 0.5\n"
   ]
  },
  {
   "cell_type": "markdown",
   "metadata": {},
   "source": [
    "#### Funções locais\n",
    "\n",
    "Como esta função de cálculo de fitness e sua atribuição para uma lista de valores fitness é algo relativamente simples, fiz sua implementação como função local."
   ]
  },
  {
   "cell_type": "code",
   "execution_count": 14,
   "metadata": {},
   "outputs": [],
   "source": [
    "# Funções Locais\n",
    "\n",
    "def funcao_obj(populacao):\n",
    "    \"\"\" Função que calcula o fitness de uma população baseado na função Himmelblau, e passa estes valores para uma lista\n",
    "    \n",
    "    Args:\n",
    "        população: lista de indivíduos a terem seus fitness calculados\n",
    "        \n",
    "    Returns:\n",
    "        Uma lista contendo os valores de fitness da população\n",
    "    \"\"\"\n",
    "    \n",
    "\n",
    "    fit = []\n",
    "    for i in populacao:\n",
    "        individuo = fobh(i)\n",
    "        fit.append(individuo)\n",
    "    return fit"
   ]
  },
  {
   "cell_type": "markdown",
   "metadata": {},
   "source": [
    "#### Como o algoritmo funciona\n",
    "\n",
    "Tendo as funções definidas e as constantes, podemos trabalhar para a finalização do algoritmo e a obtenção do resultado"
   ]
  },
  {
   "cell_type": "code",
   "execution_count": 13,
   "metadata": {},
   "outputs": [
    {
     "name": "stdout",
     "output_type": "stream",
     "text": [
      "[3.2872494487977324, 2.333369654979487]  - fitness: 7.576291587694861\n",
      "[3.184933131953499, 1.5389106741738134]  - fitness: 2.559383015995491\n",
      "[3.17545187212409, 1.5389106741738134]  - fitness: 2.5082040194915263\n",
      "[3.184933131953499, 1.6351387538316953]  - fitness: 1.9095109591211155\n",
      "[3.17545187212409, 1.6351387538316953]  - fitness: 1.8409342240879796\n",
      "[3.17545187212409, 1.8911408252024442]  - fitness: 1.011484930437126\n",
      "[3.128459593145614, 1.8911408252024442]  - fitness: 0.5473267206345193\n",
      "[3.1044458449144985, 1.8911408252024442]  - fitness: 0.3814006256800641\n",
      "[2.9701157846995043, 1.8911408252024442]  - fitness: 0.28816043754111964\n",
      "[2.9701157846995043, 1.9575506980204205]  - fitness: 0.0879361029085283\n",
      "[2.996930767912586, 1.9575506980204205]  - fitness: 0.032966426466583106\n",
      "[2.996930767912586, 1.9681360000044434]  - fitness: 0.019299888868509266\n",
      "[2.996930767912586, 2.027928358988408]  - fitness: 0.0120643307589213\n",
      "[2.996930767912586, 1.9813811370500989]  - fitness: 0.0073303730025448075\n",
      "[2.996930767912586, 1.9858582327666963]  - fitness: 0.004592030468868886\n",
      "[3.0071207736952243, 1.9858582327666963]  - fitness: 0.0032450805449199195\n",
      "[3.0071207736952243, 1.9950142344039845]  - fitness: 0.001591826743087231\n",
      "\n",
      "O melhor palpite de valores para X e para Y para o minimo global encontrado foi:\n",
      "[3.0071207736952243, 1.9950142344039845]\n"
     ]
    }
   ],
   "source": [
    "populacao = populacao_him(TAMANHO_POP, N_GENES)\n",
    "\n",
    "melhor_fitness_ja_visto = float(\"inf\")\n",
    "\n",
    "for n in range(GERACOES):\n",
    "    \n",
    "    #Processo de seleção\n",
    "    \n",
    "    fitness = funcao_obj(populacao)\n",
    "    \n",
    "    populacao = selecao(populacao, fitness)\n",
    "    \n",
    "    #Processo de Cruzamento\n",
    "    \n",
    "    pais = populacao[0::2]\n",
    "    maes = populacao[1::2]\n",
    "    \n",
    "    contador = 0\n",
    "    \n",
    "    for pai, mae in zip(pais, maes):\n",
    "        if random.random() <= CHANCE_CRUZAMENTO:\n",
    "            filho1, filho2 = cruzamento(pai, mae)\n",
    "            populacao[contador] = filho1\n",
    "            populacao[contador + 1] = filho2\n",
    "            \n",
    "        contador = contador + 2\n",
    "        \n",
    "    # Processo de Mutação\n",
    "    for n in range(len(populacao)):\n",
    "        if random.random() <= CHANCE_MUTACAO:\n",
    "            individuo = populacao[n]\n",
    "            populacao[n] = mutacao(individuo)\n",
    "            \n",
    "    # Melhor individuo já visto até agora\n",
    "    fitness = funcao_obj(populacao)\n",
    "    menor_fitness = min(fitness)\n",
    "    if menor_fitness < melhor_fitness_ja_visto:\n",
    "        posicao = fitness.index(menor_fitness)\n",
    "        melhor_individuo_ja_visto = populacao[posicao].copy()\n",
    "        melhor_fitness_ja_visto = menor_fitness\n",
    "        print((melhor_individuo_ja_visto), \" - fitness:\", melhor_fitness_ja_visto)\n",
    "        \n",
    "print()\n",
    "print(\"O melhor palpite de valores para X e para Y para o minimo global encontrado foi:\")\n",
    "print(melhor_individuo_ja_visto)"
   ]
  },
  {
   "cell_type": "markdown",
   "metadata": {},
   "source": [
    "## Conclusão\n",
    "\n"
   ]
  },
  {
   "cell_type": "markdown",
   "metadata": {},
   "source": [
    "**O problema abordado neste experimento envolve o desenvolvimento de um método, via algoritmos genéticos, para se encontrar o mínimo global da função Himmelblau, função esta que possui 4 pontos de mínimo global idênticas. De inicio, percebi que o problema se tratava de um problema de minimização, visto que queremos minimizar o valor de f(x) para até um par de pontos X e Y onde a derivada segunda seja igual a zero, caracterizando o ponto mínimo global. Com isso, tive como base um experimento já abordado anteriormente sobre descobrir uma senha devido à similaridade com este problema de minimização.**\n",
    "\n",
    "**Para encontrar o mínimo, primeiro considerei que os valores que os genes podem assumir devem ser *.float*, o qual multipliquei por 10 para poder ter o valor dentro do range possível onde podem estar os valores de ponto mínimo.**\n",
    "\n",
    "**Também alterei um pequeno parâmetro nas mutações para que o gene do indivíduo mutado seja um valor válido (.float multiplicado por 10)**\n",
    "\n",
    "**Ao final, vemos que neste problema de minimização, o algoritmo consegue encontrar o ponto mínimo da função porém necessita de um número não tão baixo de gerações para que isto ocorra, mostrando que este algoritmo é probabilístico**"
   ]
  },
  {
   "cell_type": "markdown",
   "metadata": {},
   "source": [
    "## Referências consultadas\n",
    "\n"
   ]
  },
  {
   "cell_type": "markdown",
   "metadata": {},
   "source": [
    "[1]  Wirsansky - 2020 - Hands-On Genectic Algorithms with Python Applying."
   ]
  },
  {
   "cell_type": "markdown",
   "metadata": {},
   "source": [
    "## Playground\n",
    "\n"
   ]
  },
  {
   "cell_type": "markdown",
   "metadata": {},
   "source": [
    "Todo código de teste que não faz parte do seu experimento deve vir aqui. Este código não será considerado na avaliação.\n",
    "\n"
   ]
  }
 ],
 "metadata": {
  "kernelspec": {
   "display_name": "ilumpy",
   "language": "python",
   "name": "ilumpy"
  },
  "language_info": {
   "codemirror_mode": {
    "name": "ipython",
    "version": 3
   },
   "file_extension": ".py",
   "mimetype": "text/x-python",
   "name": "python",
   "nbconvert_exporter": "python",
   "pygments_lexer": "ipython3",
   "version": "3.9.7"
  },
  "org": null
 },
 "nbformat": 4,
 "nbformat_minor": 4
}
