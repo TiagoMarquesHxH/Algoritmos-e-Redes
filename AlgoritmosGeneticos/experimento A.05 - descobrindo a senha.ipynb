{
 "cells": [
  {
   "cell_type": "markdown",
   "metadata": {},
   "source": [
    "Descobrindo a senha\n",
    "===================\n",
    "\n"
   ]
  },
  {
   "cell_type": "markdown",
   "metadata": {},
   "source": [
    "## Objetivo\n",
    "\n"
   ]
  },
  {
   "cell_type": "markdown",
   "metadata": {},
   "source": [
    "Usar um algoritmo genético para descobrir uma senha.\n",
    "\n"
   ]
  },
  {
   "cell_type": "markdown",
   "metadata": {},
   "source": [
    "## Descrição do problema\n",
    "\n"
   ]
  },
  {
   "cell_type": "markdown",
   "metadata": {},
   "source": [
    "Neste problema, a função objetivo deve saber a senha correta e quantificar de alguma maneira o quão perto ou longe os palpites estão da solução (veja que isso é algo que não temos no mundo real. Nenhum site irá te dizer se você está acertando ou errando seu palpite). O critério de parada deste problema é quando a senha for descoberta.\n",
    "\n"
   ]
  },
  {
   "cell_type": "markdown",
   "metadata": {},
   "source": [
    "## Importações\n",
    "\n"
   ]
  },
  {
   "cell_type": "code",
   "execution_count": null,
   "metadata": {},
   "outputs": [],
   "source": [
    "# Funções e bibliotecas necessárias para o funcionamento do algorítimo\n",
    "\n",
    "from funcoes import populacao_cnb\n",
    "from funcoes import funcao_objetivo_pop_cnb as funcao_objetivo_pop\n",
    "from funcoes import selecao_roleta_max as funcao_selecao\n",
    "from funcoes import cruzamento_ponto_simples as funcao_cruzamento\n",
    "from funcoes import mutacao_cnb\n",
    "import random"
   ]
  },
  {
   "cell_type": "markdown",
   "metadata": {},
   "source": [
    "## Códigos e discussão\n",
    "\n"
   ]
  },
  {
   "cell_type": "code",
   "execution_count": null,
   "metadata": {},
   "outputs": [],
   "source": [
    "# Constantes relacionadas a busca\n",
    "\n",
    "TAMANHO_POP = 6  #Define o tamanho da população inicial que desejamos\n",
    "NUM_GERACOES = 1000   # O número de vezes que serão geradas populações com o tamanho e o número de genes passados anteriormente. É a variável mais importante a ser considerada quando se visa a obtenção de uma população final específica\n",
    "CHANCE_CRUZAMENTO = 0.5  # Porcentagem que define a chance na qual determinados genes serão passados. Também define que os cruzamentos serão feitos em pares e sem ultrapassar a quantidade total de individuos da população\n",
    "CHANCE_MUTACAO = 0.05 # Porcentagem de ocorrer uma mutação em um gene e alterar o seu valor\n",
    "\n",
    "# Constantes relacionadas ao problema\n",
    "NUM_GENES = 4    #O número de genes de cada indivíduo\n",
    "VALOR_MAX_CAIXA = 100"
   ]
  },
  {
   "cell_type": "code",
   "execution_count": null,
   "metadata": {},
   "outputs": [],
   "source": [
    "# Funções Locais\n",
    "\n",
    "def cria_populacao_inicial(tamanho, n_genes):\n",
    "    return populacao_cnb(tamanho, n_genes, VALOR_MAX_CAIXA)\n",
    "\n",
    "def funcao_mutacao(individuo):\n",
    "    return mutacao_cnb(individuo, VALOR_MAX_CAIXA)"
   ]
  },
  {
   "cell_type": "code",
   "execution_count": null,
   "metadata": {},
   "outputs": [],
   "source": [
    "populacao = cria_populacao_inicial(TAMANHO_POP, NUM_GENES) # Criação da população inicial\n",
    "\n",
    "# Primeiramente, podemos verificar nossa população inicial gerada para analisar como o algorítimo mudará seu formato\n",
    "print(\"População inicial:\")\n",
    "print(populacao)\n",
    "\n",
    "\n",
    "# Quantas vezes determinada população será gerada, onde as chances de cruzamento e mutação irão interferir diretamente\n",
    "for n in range(NUM_GERACOES):\n",
    "    fitness = funcao_objetivo_pop(populacao)\n",
    "    populacao = funcao_selecao(populacao, fitness)\n",
    "    \n",
    "    pais = populacao[0::2]\n",
    "    maes = populacao[1::2]\n",
    "\n",
    "# Etapa de cruzamento    \n",
    "    contador = 0\n",
    "    for pai, mae in zip(pais, maes):\n",
    "        if random.random() < CHANCE_CRUZAMENTO:\n",
    "            filho1, filho2 = funcao_cruzamento(pai, mae)\n",
    "            populacao[contador] = filho1\n",
    "            populacao[contador + 1] = filho2\n",
    "            # vai acontecer cruzamento\n",
    "        contador = contador + 2\n",
    "        \n",
    "# Etapa de mutação    \n",
    "    for n in range(len(populacao)):\n",
    "        if random.random() <= CHANCE_MUTACAO:\n",
    "            individuo = populacao[n]\n",
    "            print()\n",
    "            print(individuo)\n",
    "            populacao[n] = funcao_mutacao(individuo)\n",
    "            print(populacao[n])\n",
    "            print()\n",
    "\n",
    "# População final após as gerações serem realizadas\n",
    "print()\n",
    "print(\"População final:\")\n",
    "print(populacao)"
   ]
  },
  {
   "cell_type": "markdown",
   "metadata": {},
   "source": [
    "## Conclusão\n",
    "\n"
   ]
  },
  {
   "cell_type": "markdown",
   "metadata": {},
   "source": [
    "## Playground\n",
    "\n"
   ]
  },
  {
   "cell_type": "code",
   "execution_count": null,
   "metadata": {},
   "outputs": [],
   "source": []
  }
 ],
 "metadata": {
  "kernelspec": {
   "display_name": "ilumpy",
   "language": "python",
   "name": "ilumpy"
  },
  "language_info": {
   "codemirror_mode": {
    "name": "ipython",
    "version": 3
   },
   "file_extension": ".py",
   "mimetype": "text/x-python",
   "name": "python",
   "nbconvert_exporter": "python",
   "pygments_lexer": "ipython3",
   "version": "3.9.7"
  },
  "org": null
 },
 "nbformat": 4,
 "nbformat_minor": 4
}
