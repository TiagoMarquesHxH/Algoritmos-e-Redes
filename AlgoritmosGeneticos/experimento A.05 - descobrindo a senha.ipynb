{
 "cells": [
  {
   "cell_type": "markdown",
   "metadata": {},
   "source": [
    "Descobrindo a senha\n",
    "===================\n",
    "\n"
   ]
  },
  {
   "cell_type": "markdown",
   "metadata": {},
   "source": [
    "## Objetivo\n",
    "\n"
   ]
  },
  {
   "cell_type": "markdown",
   "metadata": {},
   "source": [
    "Usar um algoritmo genético para descobrir uma senha.\n",
    "\n"
   ]
  },
  {
   "cell_type": "markdown",
   "metadata": {},
   "source": [
    "## Descrição do problema\n",
    "\n"
   ]
  },
  {
   "cell_type": "markdown",
   "metadata": {},
   "source": [
    "Neste problema, a função objetivo deve saber a senha correta e quantificar de alguma maneira o quão perto ou longe os palpites estão da solução (veja que isso é algo que não temos no mundo real. Nenhum site irá te dizer se você está acertando ou errando seu palpite). O critério de parada deste problema é quando a senha for descoberta.\n",
    "\n"
   ]
  },
  {
   "cell_type": "markdown",
   "metadata": {},
   "source": [
    "## Importações\n",
    "\n"
   ]
  },
  {
   "cell_type": "code",
   "execution_count": 1,
   "metadata": {},
   "outputs": [],
   "source": [
    "# Funções e bibliotecas necessárias para o funcionamento do algorítimo\n",
    "\n",
    "from funcoes import populacao_inicial_senha\n",
    "from funcoes import funcao_objetivo_pop_senha\n",
    "from funcoes import selecao_torneio_min\n",
    "from funcoes import cruzamento_ponto_simples as funcao_cruzamento\n",
    "from funcoes import mutacao_senha\n",
    "import random"
   ]
  },
  {
   "cell_type": "markdown",
   "metadata": {},
   "source": [
    "## Códigos e discussão\n",
    "\n"
   ]
  },
  {
   "cell_type": "code",
   "execution_count": 2,
   "metadata": {},
   "outputs": [],
   "source": [
    "# Constantes relacionadas a busca\n",
    "\n",
    "TAMANHO_POP = 50  #Define o tamanho da população inicial que desejamos\n",
    "CHANCE_CRUZAMENTO = 0.5  # Porcentagem que define a chance na qual determinados genes serão passados. Também define que os cruzamentos serão feitos em pares e sem ultrapassar a quantidade total de individuos da população\n",
    "CHANCE_MUTACAO = 0.05 # Porcentagem de ocorrer uma mutação em um gene e alterar o seu valor\n",
    "NUM_COMBATENTES_NO_TORNEIO = 3\n",
    "\n",
    "# relacionadas ao problema a ser resolvido\n",
    "SENHA = \"correcthorsebatterystaple\"\n",
    "LETRAS_POSSIVEIS = \"abcdefghijklmnopqrstuvwxyz\"\n",
    "NUM_GENES = len(SENHA)"
   ]
  },
  {
   "cell_type": "markdown",
   "metadata": {},
   "source": [
    "Para a construção das funções e começarmos a moldar o progresso do nosso algoritmo, primeiro precisamos entender o problema. Temos uma senha e queremos encontrá-la, mas não podemos simplesmente passá-la para o algoritmo, temos que construir esta interação entre senha-palpite e senha original de tal forma que a função objetivo nos indique o quão próximo estamos de desvendar a senha. Sabemos que a função objetivo nos retorna um valor de fitness, logo, como o fitness poderia representar que a senha-palpite está próxima da senha original?\n",
    "\n",
    "**Distância**\n",
    "\n",
    "Ora, a senha original é composta de letras, onde cada uma será um gene do indivíduo. Se o nosso algoritmo construir uma senha formada pelas letras possíveis do alfabeto, de forma aleatória, ele pode checar a distância de um gene (letra) com relação à um gene de mesmo índice do indivíduo que contém a senha correta, e então o valor distância entre todos os genes dos indivíduos palpite e correto será o fitness daquele indivíduo."
   ]
  },
  {
   "cell_type": "code",
   "execution_count": 3,
   "metadata": {},
   "outputs": [],
   "source": [
    "# Funções Locais\n",
    "\n",
    "def cria_populacao_inicial(tamanho, tamanho_senha):\n",
    "    return populacao_inicial_senha(tamanho, tamanho_senha, LETRAS_POSSIVEIS)\n",
    "\n",
    "def funcao_objetivo_pop(populacao):\n",
    "    return funcao_objetivo_pop_senha(populacao, SENHA)\n",
    "\n",
    "def funcao_selecao(populacao, fitness):\n",
    "    return selecao_torneio_min(populacao, fitness, NUM_COMBATENTES_NO_TORNEIO)\n",
    "\n",
    "def funcao_mutacao(individuo):\n",
    "    return mutacao_senha(individuo, LETRAS_POSSIVEIS)"
   ]
  },
  {
   "cell_type": "code",
   "execution_count": 4,
   "metadata": {
    "collapsed": true,
    "jupyter": {
     "outputs_hidden": true
    },
    "tags": []
   },
   "outputs": [
    {
     "name": "stdout",
     "output_type": "stream",
     "text": [
      "Progresso da melhor senha já vista:\n",
      "clhpbszckyadajzxhntfrgmnf - fitness: 134\n",
      "brsyhmpfsmivebvelswvjdjrk - fitness: 132\n",
      "brsyhmphsumrhjzxhntfrgmnf - fitness: 119\n",
      "brsyhmpfvrikajzxhntfrgmnf - fitness: 113\n",
      "brsyhmpfvrikajzxhswvjdjrf - fitness: 109\n",
      "brsyhmpfyndcfbtslswvjdjrf - fitness: 107\n",
      "brsyhmpfvrnkajzxhswvjdjrf - fitness: 104\n",
      "brsyhmpfvrnkajzxhswvjgmnf - fitness: 100\n",
      "brsyhmpfvrnkfbtslswvjdjrf - fitness: 94\n",
      "brsyhmpfvrnkfbtslswvjdjnf - fitness: 90\n",
      "brsyhmpfvrnkfbtslswvjdmnf - fitness: 87\n",
      "brsyhmpfvrnafbtslswvjdmnf - fitness: 85\n",
      "brsyhmpfvrnkfbtslswvudmnf - fitness: 78\n",
      "brsyhepfvrnafbtslswvjdmnf - fitness: 77\n",
      "brsyhepfvrnafbtslswvudmnf - fitness: 68\n",
      "brsyhepfvrnafbtslswuudmnf - fitness: 67\n",
      "brsyhepfsrnafbtslswvudmnf - fitness: 65\n",
      "brsyhepfvrnabbtslswvudmnf - fitness: 64\n",
      "brsyhepfsrnabbtslswvudmnf - fitness: 61\n",
      "brsyhepfvrvabbtsgswvudmnf - fitness: 57\n",
      "brsyhepfsrnabbtsgswvudmnf - fitness: 56\n",
      "brsyeepfsrnabbtsgswvudmnf - fitness: 53\n",
      "brsyeepfsrnabbtsgswvudmne - fitness: 52\n",
      "brsyeepfsrvabbtsgswvudmnf - fitness: 51\n",
      "brsyeepfsrnfbbtsgswvudmne - fitness: 49\n",
      "brsyeepfsrnfbbtsgswvudrne - fitness: 48\n",
      "brsyeepfsrnfbbtsgswvucrne - fitness: 47\n",
      "brsyeetfsrnfbbtsgswvudrne - fitness: 44\n",
      "brsyeetfsrnfbbtsgswvucrne - fitness: 43\n",
      "brsyeetfsrpfbbtsgswvucrne - fitness: 41\n",
      "brsyeetfsrpfbbtsgswtucrne - fitness: 39\n",
      "crsyeetfsrpfbbtsgswtucrne - fitness: 38\n",
      "crsveetfsrpfbbtsgswtucrne - fitness: 35\n",
      "crsveetfsrqfbbtsgswtucrne - fitness: 34\n",
      "crsveetfnrqfbbtsgswtucrne - fitness: 31\n",
      "cpsveetisrqfbbtsgrwtucrne - fitness: 30\n",
      "cpsvectisrqfbbtsgrwtucrne - fitness: 28\n",
      "cpsvectisrqfbbtsgrwtucpne - fitness: 26\n",
      "cpsvectilrqfbbtsgrwtucpne - fitness: 25\n",
      "cpsvectilrqfbbtsgrwtucpme - fitness: 24\n",
      "cpsvectilrsfbbtsgrwtucpne - fitness: 23\n",
      "cpsuectilrrfbbtsgrwsucpne - fitness: 22\n",
      "cpsuectilrrebbtsgrwsucpne - fitness: 21\n",
      "cpsuectilrsebbtsgrwsucpne - fitness: 20\n",
      "cpstectilrsebbtsgrwsucpne - fitness: 19\n",
      "cprtectilrsebbtsgrwsucpne - fitness: 18\n",
      "cpstectinrsebbtsgrwsucpne - fitness: 17\n",
      "cprtectinrsebbtsgrwsucpne - fitness: 16\n",
      "cpstectinrsebbtsgrysucpne - fitness: 15\n",
      "cprtectinrsebbtsgrysucpne - fitness: 14\n",
      "cnrsectinrsebbtsgrysucpne - fitness: 13\n",
      "cnrsectinrsebbtsdrysucpne - fitness: 12\n",
      "cnrsecthnrsebbtsdrysucpne - fitness: 11\n",
      "cnrsecthnrsebbtserysucpne - fitness: 10\n",
      "cnrrecthnrsebbtserysucpne - fitness: 9\n",
      "correcthnrsebbtserysucpne - fitness: 8\n",
      "correcthnrsebatserysucpne - fitness: 7\n",
      "correcthnrsebatserystcpne - fitness: 6\n",
      "correcthorsebatserystcpne - fitness: 5\n",
      "correcthorsebatserystcple - fitness: 3\n",
      "correcthorsebatserystbple - fitness: 2\n",
      "correcthorsebatserystaple - fitness: 1\n",
      "correcthorsebatterystaple - fitness: 0\n",
      "\n",
      "Melhor palpite da senha encontrado:\n",
      "correcthorsebatterystaple\n"
     ]
    }
   ],
   "source": [
    "populacao = cria_populacao_inicial(TAMANHO_POP, NUM_GENES)\n",
    "\n",
    "melhor_fitness_ja_visto = float(\"inf\")  # é assim que escrevemos infinito em python\n",
    "\n",
    "print(\"Progresso da melhor senha já vista:\")\n",
    "\n",
    "while melhor_fitness_ja_visto != 0:\n",
    "    \n",
    "    # Seleção\n",
    "    fitness = funcao_objetivo_pop(populacao)\n",
    "    populacao = funcao_selecao(populacao, fitness)\n",
    "    # Cruzamento\n",
    "    pais = populacao[0::2]\n",
    "    maes = populacao[1::2]\n",
    "    \n",
    "    contador = 0\n",
    "    \n",
    "    for pai, mae in zip(pais, maes):\n",
    "        if random.random() <= CHANCE_CRUZAMENTO:\n",
    "            filho1, filho2 = funcao_cruzamento(pai, mae)\n",
    "            populacao[contador] = filho1\n",
    "            populacao[contador + 1] = filho2\n",
    "        \n",
    "        contador = contador + 2   \n",
    "        \n",
    "    # Mutação\n",
    "    for n in range(len(populacao)):\n",
    "        if random.random() <= CHANCE_MUTACAO:\n",
    "            individuo = populacao[n]\n",
    "            populacao[n] = funcao_mutacao(individuo)            \n",
    "            \n",
    "    # melhor individuo já visto até agora\n",
    "    fitness = funcao_objetivo_pop(populacao)\n",
    "    menor_fitness = min(fitness)\n",
    "    if menor_fitness < melhor_fitness_ja_visto:        \n",
    "        posicao = fitness.index(menor_fitness)\n",
    "        melhor_individuo_ja_visto = populacao[posicao]\n",
    "        melhor_fitness_ja_visto = menor_fitness\n",
    "        print(\"\".join(melhor_individuo_ja_visto), \"- fitness:\", melhor_fitness_ja_visto)\n",
    "\n",
    "print()\n",
    "print(\"Melhor palpite da senha encontrado:\")\n",
    "print(\"\".join(melhor_individuo_ja_visto))"
   ]
  },
  {
   "cell_type": "markdown",
   "metadata": {},
   "source": [
    "## Conclusão\n",
    "\n"
   ]
  },
  {
   "cell_type": "markdown",
   "metadata": {},
   "source": [
    "Agora, abordamos o problema de descobrirmos uma senha. Aqui, no entanto, teremos a senha correta passada para a função objetivo, para que as senhas que o algoritmo encontrar como candidato, seja comparada com a senha original e assim dê um valor de fitness baseado na diferença entre as senhas.\n",
    "\n",
    "Logo, fica claro que o que estamos analisando é um problema de minimização, pois queremos a menor distância entre o indivíduo conténdo os genes (letras) e as letras da senha original.\n",
    "\n",
    "E assim, enquanto o critério de parada não for atingido, realizamos a construção de novas populações de indivíduos e checamos o fitness (distancia) da senha que o individuo representa, até quando a distância entre todos os genes dos individuos seja 0, que representa que o individuo candidato corresponde ao individuo que é a senha correta\n",
    "\n",
    "Com isso, vimos que este experimento teve um grau de complexidade mais elevada do que os anteriores, necessitando que novas funções fossem criadas para atender os requisitos para a solução do problema. O método da função objetivo desta vez foi o contrário do que o do experimento anterior, pois neste comparamos as letras candidatas e as letras originais, e desejamos que a distância seja 0 entre elas, significando que a letra candidata corresponde à letra original. Ou seja, tratamos aqui de um problema de minimização, pois queremos a menor distância possível entre as letras, e no experimento anterior o problema tratado envolvia maximização. O algoritmo também apresenta caráter probabilístico, pois apesar de não termos um gerador de populações, temos um loop que irá gerar um indivíduo contendo letras aleatoriamente, e assim irá comparar com a senha original."
   ]
  },
  {
   "cell_type": "markdown",
   "metadata": {},
   "source": [
    "## Playground\n",
    "\n"
   ]
  }
 ],
 "metadata": {
  "kernelspec": {
   "display_name": "ilumpy",
   "language": "python",
   "name": "ilumpy"
  },
  "language_info": {
   "codemirror_mode": {
    "name": "ipython",
    "version": 3
   },
   "file_extension": ".py",
   "mimetype": "text/x-python",
   "name": "python",
   "nbconvert_exporter": "python",
   "pygments_lexer": "ipython3",
   "version": "3.9.7"
  },
  "org": null
 },
 "nbformat": 4,
 "nbformat_minor": 4
}
