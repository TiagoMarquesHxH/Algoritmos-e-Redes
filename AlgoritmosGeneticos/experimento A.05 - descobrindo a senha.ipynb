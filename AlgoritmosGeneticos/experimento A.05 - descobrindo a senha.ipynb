{
 "cells": [
  {
   "cell_type": "markdown",
   "metadata": {},
   "source": [
    "Descobrindo a senha\n",
    "===================\n",
    "\n"
   ]
  },
  {
   "cell_type": "markdown",
   "metadata": {},
   "source": [
    "## Objetivo\n",
    "\n"
   ]
  },
  {
   "cell_type": "markdown",
   "metadata": {},
   "source": [
    "Usar um algoritmo genético para descobrir uma senha.\n",
    "\n"
   ]
  },
  {
   "cell_type": "markdown",
   "metadata": {},
   "source": [
    "## Descrição do problema\n",
    "\n"
   ]
  },
  {
   "cell_type": "markdown",
   "metadata": {},
   "source": [
    "Neste problema, a função objetivo deve saber a senha correta e quantificar de alguma maneira o quão perto ou longe os palpites estão da solução (veja que isso é algo que não temos no mundo real. Nenhum site irá te dizer se você está acertando ou errando seu palpite). O critério de parada deste problema é quando a senha for descoberta.\n",
    "\n"
   ]
  },
  {
   "cell_type": "markdown",
   "metadata": {},
   "source": [
    "## Importações\n",
    "\n"
   ]
  },
  {
   "cell_type": "code",
   "execution_count": 1,
   "metadata": {},
   "outputs": [],
   "source": [
    "# Funções e bibliotecas necessárias para o funcionamento do algorítimo\n",
    "\n",
    "from funcoes import populacao_inicial_senha\n",
    "from funcoes import funcao_objetivo_pop_senha\n",
    "from funcoes import selecao_torneio_min\n",
    "from funcoes import cruzamento_ponto_simples as funcao_cruzamento\n",
    "from funcoes import mutacao_senha\n",
    "import random"
   ]
  },
  {
   "cell_type": "markdown",
   "metadata": {},
   "source": [
    "## Códigos e discussão\n",
    "\n"
   ]
  },
  {
   "cell_type": "code",
   "execution_count": 2,
   "metadata": {},
   "outputs": [],
   "source": [
    "# Constantes relacionadas a busca\n",
    "\n",
    "TAMANHO_POP = 50  #Define o tamanho da população inicial que desejamos\n",
    "CHANCE_CRUZAMENTO = 0.5  # Porcentagem que define a chance na qual determinados genes serão passados. Também define que os cruzamentos serão feitos em pares e sem ultrapassar a quantidade total de individuos da população\n",
    "CHANCE_MUTACAO = 0.05 # Porcentagem de ocorrer uma mutação em um gene e alterar o seu valor\n",
    "NUM_COMBATENTES_NO_TORNEIO = 3\n",
    "\n",
    "# relacionadas ao problema a ser resulvido\n",
    "SENHA = \"correcthorsebatterystaple\"\n",
    "LETRAS_POSSIVEIS = \"abcdefghijklmnopqrstuvwxyz\"\n",
    "NUM_GENES = len(SENHA)"
   ]
  },
  {
   "cell_type": "code",
   "execution_count": 3,
   "metadata": {},
   "outputs": [],
   "source": [
    "# Funções Locais\n",
    "\n",
    "def cria_populacao_inicial(tamanho, tamanho_senha):\n",
    "    return populacao_inicial_senha(tamanho, tamanho_senha, LETRAS_POSSIVEIS)\n",
    "\n",
    "def funcao_objetivo_pop(populacao):\n",
    "    return funcao_objetivo_pop_senha(populacao, SENHA)\n",
    "\n",
    "def funcao_selecao(populacao, fitness):\n",
    "    return selecao_torneio_min(populacao, fitness, NUM_COMBATENTES_NO_TORNEIO)\n",
    "\n",
    "def funcao_mutacao(individuo):\n",
    "    return mutacao_senha(individuo, LETRAS_POSSIVEIS)"
   ]
  },
  {
   "cell_type": "code",
   "execution_count": 4,
   "metadata": {},
   "outputs": [
    {
     "name": "stdout",
     "output_type": "stream",
     "text": [
      "Progresso da melhor senha já vista:\n",
      "fnqzddikmhufpaqbaqtgbfmsa - fitness: 138\n",
      "fnqzddikmhufpaqbaqtuqryke - fitness: 121\n",
      "fnqzddikmhufpaqbaqwthfmke - fitness: 108\n",
      "fnqtqevhrjjdddkbaqwthfmke - fitness: 105\n",
      "fnqzddskmhufpaqbaqtthfmke - fitness: 101\n",
      "fnqzddskmhufpaqbaqwthfmke - fitness: 98\n",
      "fnqzddskmhufpaqxaqtthfmke - fitness: 87\n",
      "fnqzddskmouipaqxaqtthfmke - fitness: 83\n",
      "fnqzddskmhuepaqxaqttufmke - fitness: 75\n",
      "fnqzddskmouipaqxaqttufmke - fitness: 72\n",
      "foqzddskmouipaqxaqttufmke - fitness: 71\n",
      "foqzddskmouipaqxaqtttfmke - fitness: 70\n",
      "foqzddskmouipaqxaqttufpke - fitness: 68\n",
      "foqzddskmouimaqxaqttufpke - fitness: 65\n",
      "foqzddskmouibaqxaqttufpke - fitness: 54\n",
      "foqzddskmouibaqraqttufpke - fitness: 52\n",
      "foqzddskmouibaqreqttufpke - fitness: 48\n",
      "foqzddskmoudbaqreqttufpke - fitness: 45\n",
      "foqzddukmosdbaqreqttufpke - fitness: 43\n",
      "eoqzddukmosdbaqreqttufpke - fitness: 42\n",
      "eoqzddukmosdbaqreqtsufpke - fitness: 41\n",
      "eoqqddukmosdbaqreqtsufpke - fitness: 34\n",
      "eoqqddukmpsdbaqreqtsufpke - fitness: 33\n",
      "eoqqddukmpsdbaqreqtsuepke - fitness: 32\n",
      "eoqqdduknpsdbaqreqtsuepke - fitness: 31\n",
      "eoqqddukmpsdbatreqtsuepke - fitness: 29\n",
      "eoqqdduknpsdbatreqtsuepke - fitness: 28\n",
      "doqqdduknpsdbatreqtsuepke - fitness: 27\n",
      "doqqdduknpsdbatreqxsuepke - fitness: 23\n",
      "doqqdduknpsdbatseqxsuepke - fitness: 22\n",
      "doqqddukopsdbatseqxsuepke - fitness: 21\n",
      "doqqddujopsdbatseqxsuepke - fitness: 20\n",
      "doqqddujopsdbatseqxsueple - fitness: 19\n",
      "doqqddujopsdbatteqxsueple - fitness: 18\n",
      "doqqddujoqsdbatteqxsueple - fitness: 17\n",
      "doqqddujorsdbatteqxsueple - fitness: 16\n",
      "doqqddtjorsdbatteqxsueple - fitness: 15\n",
      "doqqddujorsdbatteqxsucple - fitness: 14\n",
      "doqqddtjorsdbatteqxsucple - fitness: 13\n",
      "doqqddtjorsdbatteqxsubple - fitness: 12\n",
      "doqqddtiorsdbatteqxsubple - fitness: 11\n",
      "doqqddtiorsebatteqxsubple - fitness: 10\n",
      "doqqddthorsebatteqxsubple - fitness: 9\n",
      "coqqddthorsebatteqxsubple - fitness: 8\n",
      "coqqddthorsebatteqysubple - fitness: 7\n",
      "coqqddthorsebatteqystbple - fitness: 6\n",
      "corqddthorsebatteqystbple - fitness: 5\n",
      "corrddthorsebatteqystbple - fitness: 4\n",
      "corrddthorsebatterystbple - fitness: 3\n",
      "corrdcthorsebatterystbple - fitness: 2\n",
      "correcthorsebatterystbple - fitness: 1\n",
      "correcthorsebatterystaple - fitness: 0\n",
      "\n",
      "Melhor palpite da senha encontrado:\n",
      "correcthorsebatterystaple\n"
     ]
    }
   ],
   "source": [
    "populacao = cria_populacao_inicial(TAMANHO_POP, NUM_GENES)\n",
    "\n",
    "melhor_fitness_ja_visto = float(\"inf\")  # é assim que escrevemos infinito em python\n",
    "\n",
    "print(\"Progresso da melhor senha já vista:\")\n",
    "\n",
    "while melhor_fitness_ja_visto != 0:\n",
    "    \n",
    "    # Seleção\n",
    "    fitness = funcao_objetivo_pop(populacao)\n",
    "    populacao = funcao_selecao(populacao, fitness)\n",
    "    # Cruzamento\n",
    "    pais = populacao[0::2]\n",
    "    maes = populacao[1::2]\n",
    "    \n",
    "    contador = 0\n",
    "    \n",
    "    for pai, mae in zip(pais, maes):\n",
    "        if random.random() <= CHANCE_CRUZAMENTO:\n",
    "            filho1, filho2 = funcao_cruzamento(pai, mae)\n",
    "            populacao[contador] = filho1\n",
    "            populacao[contador + 1] = filho2\n",
    "        \n",
    "        contador = contador + 2   \n",
    "        \n",
    "    # Mutação\n",
    "    for n in range(len(populacao)):\n",
    "        if random.random() <= CHANCE_MUTACAO:\n",
    "            individuo = populacao[n]\n",
    "            populacao[n] = funcao_mutacao(individuo)            \n",
    "            \n",
    "    # melhor individuo já visto até agora\n",
    "    fitness = funcao_objetivo_pop(populacao)\n",
    "    menor_fitness = min(fitness)\n",
    "    if menor_fitness < melhor_fitness_ja_visto:        \n",
    "        posicao = fitness.index(menor_fitness)\n",
    "        melhor_individuo_ja_visto = populacao[posicao]\n",
    "        melhor_fitness_ja_visto = menor_fitness\n",
    "        print(\"\".join(melhor_individuo_ja_visto), \"- fitness:\", melhor_fitness_ja_visto)\n",
    "\n",
    "print()\n",
    "print(\"Melhor palpite da senha encontrado:\")\n",
    "print(\"\".join(melhor_individuo_ja_visto))"
   ]
  },
  {
   "cell_type": "markdown",
   "metadata": {},
   "source": [
    "## Conclusão\n",
    "\n"
   ]
  },
  {
   "cell_type": "markdown",
   "metadata": {},
   "source": [
    "**Este experimento teve um grau de complexidade mais elevada do que os anteriores, necessitando que novas funções fossem criadas para atender os requisitos para a solução do problema. O método da função objetivo desta vez foi o contrário do que o do experimento anterior, pois neste comparamos as letras candidatas e as letras originais, e desejamos que a distância seja 0 entre elas, significando que a letra candidata corresponde à letra original. Ou seja, tratamos aqui de um problema de minimização, pois queremos a menor distância possível entre as letras, e no experimento anterior o problema tratado envolvia maximização. O algoritmo também apresenta caráter probabilístico, pois apesar de não termos um gerador de populações, temos um loop que irá gerar um indivíduo contendo letras aleatoriamente, e assim irá comparar com a senha original.**"
   ]
  },
  {
   "cell_type": "markdown",
   "metadata": {},
   "source": [
    "## Playground\n",
    "\n"
   ]
  },
  {
   "cell_type": "code",
   "execution_count": null,
   "metadata": {},
   "outputs": [],
   "source": []
  }
 ],
 "metadata": {
  "kernelspec": {
   "display_name": "ilumpy",
   "language": "python",
   "name": "ilumpy"
  },
  "language_info": {
   "codemirror_mode": {
    "name": "ipython",
    "version": 3
   },
   "file_extension": ".py",
   "mimetype": "text/x-python",
   "name": "python",
   "nbconvert_exporter": "python",
   "pygments_lexer": "ipython3",
   "version": "3.9.7"
  },
  "org": null
 },
 "nbformat": 4,
 "nbformat_minor": 4
}
