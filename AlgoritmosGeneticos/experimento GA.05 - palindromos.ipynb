{
 "cells": [
  {
   "cell_type": "markdown",
   "metadata": {},
   "source": [
    "Experimento GA.05 - palindromos\n",
    "========================================\n",
    "\n"
   ]
  },
  {
   "cell_type": "markdown",
   "metadata": {},
   "source": [
    "## Introdução\n",
    "\n"
   ]
  },
  {
   "cell_type": "markdown",
   "metadata": {},
   "source": [
    "Palíndromos são palavras que se mantém as mesmas após terem sua ordem `inicial-final` trocada, como por exemplo `ARARA`,`ELE`,`TATTARRATTAT`, entre outras.\n",
    "\n",
    "\n",
    "Neste experimento, devemos construir um algorítmo genético que seja capaz de encontrar pelo menos 10 palíndromos de 5 letras, sendo que estes palíndromos devem possuir pelo menos uma vogal. Porém, pode-se construir qualquer palavra, não sendo necessário que eles formem palavras reais do dicionário em português ou qualquer outro idioma, elas apenas precisam ter o formato de um palíndromo.\n"
   ]
  },
  {
   "cell_type": "markdown",
   "metadata": {},
   "source": [
    "## Objetivo\n",
    "\n"
   ]
  },
  {
   "cell_type": "markdown",
   "metadata": {},
   "source": [
    "#### - Construir 10 palíndromos de tamanho mínimo de 5 letras;\n",
    "\n",
    "\n",
    "#### - Os palíndromos devem possuir no mínimo uma vogal;\n",
    "\n",
    "\n",
    "#### - A palavra criada deve ter o formato de palíndromo."
   ]
  },
  {
   "cell_type": "markdown",
   "metadata": {},
   "source": [
    "## Importações\n",
    "\n"
   ]
  },
  {
   "cell_type": "markdown",
   "metadata": {},
   "source": [
    "Todos os comandos de `import` devem estar dentro desta seção.\n",
    "\n"
   ]
  },
  {
   "cell_type": "code",
   "execution_count": 4,
   "metadata": {},
   "outputs": [],
   "source": [
    "from funcoes import funcao_objetivo_palindromos as fobj\n",
    "from funcoes import funcao_objetivo_pop_palindromos as fobj_pop\n",
    "from funcoes import individuo_palindromo\n",
    "from funcoes import dicionario_palindromo\n",
    "from funcoes import selecao_torneio_min\n",
    "from funcoes import cruzamento_ponto_simples as funcao_cruzamento\n",
    "from funcoes import mutacao_senha\n",
    "import random"
   ]
  },
  {
   "cell_type": "markdown",
   "metadata": {},
   "source": [
    "## Códigos e discussão\n",
    "\n"
   ]
  },
  {
   "cell_type": "markdown",
   "metadata": {},
   "source": [
    "### Como começar?\n",
    "\n",
    "Retornando aos objetivos deste experimento, vemos que o foco principal neste experimento é formar um palíndromo. Logo, devemos criar *algo* que contenha letras e que estas letras possam formar uma palavra. Estamos falando de um `indivíduo`!! Este algorítmo irá, inicialmente, formar um indivíduo qualquer contendo 5 `genes` que serão as `letras` que podem formar ou não um palíndromo. Este é o passo mais básico que o algorítmo irá realizar para a formação de uma população de palavras candidatas. "
   ]
  },
  {
   "cell_type": "markdown",
   "metadata": {},
   "source": [
    "### Construindo as funções\n",
    "\n",
    "Começando pela função objetivo, devemos construí-la de tal forma que receba um indivíduo, verifique se este atenda às restrições impostas, e então calcular o quão bom este candidato é para a solução do experimento. Lembremos que os indivíduos devem conter obrigatoriamente uma vogal, e que a palavra formada deve ser um palíndromo. Então temos aqui uma `restrição` para ser aplicada à nossa função, que é de o indivíduo conter ao menos uma vogal. \n",
    "\n",
    "#### - Solução para a restrição: \n",
    "         - Podemos criar uma lista contendo somente as vogais e aplicar um condicional que, se o individuo recebido não possui nenhum gene vogal, deve-se substituir um gene aleatório por um gene vogal aleatório.\n",
    "\n",
    "#### - O cálculo da distância\n",
    "\n",
    "         - Completando a primeira restrição, prosseguimos para o cálculo da distância entre as letras do indivíduo, e para isso, podemos checar a distância dos genes dele mesmo com base em todas as letras possíveis. A procura deve ter o foco em genes letra que possua uma distância 0, representando que os genes comparados possuem o mesmo valor, o que é necessário quando se procura formar um palíndromo. Como os indivíduos possuem 5 genes, devemos ter quatro valores de distância iguais a 0 dentre todos os cálculos de distâncias, já que a letra do índice do meio não terá uma letra equivalente.  \n",
    "\n",
    "Sabendo a relação de indivíduos/genes e palavras/letras, é fácil de ver que a nossa função `gene_letra` deve receber como argumento todas as letras possíveis de se trabalhar, e então retorná-la. A função `individuo_palindromo` irá receber estas letras possíveis de serem usadas e o tamanho máximo da palavra, podendo assim formar um indivíduo de 5 letras quaisquer.\n",
    "\n",
    "A função `dicionario_palindromo` funcionará como qualquer outra função de população, recebendo os argumentos necessários para a função `individuo_palindromo` e o argumento do tamanho da população, e então passando os indivíduos para uma lista população.\n",
    "\n",
    "MUTAÇÃO\n",
    "CRUZAMENTO\n",
    "\n",
    "A função `selecao_torneio_min` pode ser aplicada a este problema, visto que este experimento pode ser visto como um problema de `minimização` de distâncias entre os genes."
   ]
  },
  {
   "cell_type": "code",
   "execution_count": 5,
   "metadata": {},
   "outputs": [],
   "source": [
    "# Constantes relacionadas a busca\n",
    "TAMANHO_POP = 10  #Define o tamanho da população inicial que desejamos\n",
    "CHANCE_CRUZAMENTO = 0.5  # Porcentagem que define a chance na qual determinados genes serão passados. Também define que os cruzamentos serão feitos em pares e sem ultrapassar a quantidade total de individuos da população\n",
    "CHANCE_MUTACAO = 0.05 # Porcentagem de ocorrer uma mutação em um gene e alterar o seu valor\n",
    "NUM_COMBATENTES_NO_TORNEIO = 3\n",
    "\n",
    "# Relacionadas ao problema a ser resolvido\n",
    "LETRAS_POSSIVEIS = \"abcdefghijklmnopqrstuvwxyz\"\n",
    "NUM_GENES = 5"
   ]
  },
  {
   "cell_type": "code",
   "execution_count": 8,
   "metadata": {},
   "outputs": [],
   "source": [
    "# Funções Locais\n",
    "\n",
    "def cria_populacao_inicial(tamanho, tamanho_palavra):\n",
    "    return dicionario_palindromo(tamanho, tamanho_palavra, LETRAS_POSSIVEIS)\n",
    "\n",
    "def funcao_objetivo_pop(populacao):\n",
    "    return fobj_pop(populacao)\n",
    "\n",
    "def funcao_selecao(populacao, fitness):\n",
    "    return selecao_torneio_min(populacao, fitness, NUM_COMBATENTES_NO_TORNEIO)\n",
    "\n",
    "def funcao_mutacao(individuo):\n",
    "    return mutacao_senha(individuo, LETRAS_POSSIVEIS)"
   ]
  },
  {
   "cell_type": "code",
   "execution_count": null,
   "metadata": {},
   "outputs": [],
   "source": [
    "populacao = cria_populacao_inicial(TAMANHO_POP, NUM_GENES)\n",
    "\n",
    "melhor_fitness_ja_visto = float(\"inf\")  # é assim que escrevemos infinito em python\n",
    "\n",
    "print(\"Progresso da melhor senha já vista:\")\n",
    "\n",
    "while melhor_fitness_ja_visto != 0:\n",
    "    \n",
    "    # Seleção\n",
    "    fitness = funcao_objetivo_pop(populacao)\n",
    "    populacao = funcao_selecao(populacao, fitness)\n",
    "    # Cruzamento\n",
    "    pais = populacao[0::2]\n",
    "    maes = populacao[1::2]\n",
    "    \n",
    "    contador = 0\n",
    "    \n",
    "    for pai, mae in zip(pais, maes):\n",
    "        if random.random() <= CHANCE_CRUZAMENTO:\n",
    "            filho1, filho2 = funcao_cruzamento(pai, mae)\n",
    "            populacao[contador] = filho1\n",
    "            populacao[contador + 1] = filho2\n",
    "        \n",
    "        contador = contador + 2   \n",
    "        \n",
    "    # Mutação\n",
    "    for n in range(len(populacao)):\n",
    "        if random.random() <= CHANCE_MUTACAO:\n",
    "            individuo = populacao[n]\n",
    "            populacao[n] = funcao_mutacao(individuo)            \n",
    "            \n",
    "    # melhor individuo já visto até agora\n",
    "    fitness = funcao_objetivo_pop(populacao)\n",
    "    menor_fitness = min(fitness)\n",
    "    if menor_fitness < melhor_fitness_ja_visto:        \n",
    "        posicao = fitness.index(menor_fitness)\n",
    "        melhor_individuo_ja_visto = populacao[posicao]\n",
    "        melhor_fitness_ja_visto = menor_fitness\n",
    "        print(\"\".join(melhor_individuo_ja_visto), \"- fitness:\", melhor_fitness_ja_visto)\n",
    "\n",
    "print()\n",
    "print(\"Melhor palpite da senha encontrado:\")\n",
    "print(\"\".join(melhor_individuo_ja_visto))"
   ]
  },
  {
   "cell_type": "markdown",
   "metadata": {},
   "source": [
    "## Conclusão\n",
    "\n"
   ]
  },
  {
   "cell_type": "markdown",
   "metadata": {},
   "source": [
    "Delete este texto e escreva sua conclusão.\n",
    "\n"
   ]
  },
  {
   "cell_type": "markdown",
   "metadata": {},
   "source": [
    "## Referências consultadas\n",
    "\n"
   ]
  },
  {
   "cell_type": "markdown",
   "metadata": {},
   "source": [
    "1.  Delete este texto e inclua suas referências ordenadas numericamente. Se for referenciar no notebook, use o número entre colchetes (exemplo: para citar essa referência aqui escreva &ldquo;[1]&rdquo; sem as áspas).\n",
    "\n",
    "2.  Cada item deve ser numerado. Siga o padrão apresentado.\n",
    "\n",
    "3.  Caso não tenha nenhuma referência consultada, delete esta seção e o texto contido nela!\n",
    "\n"
   ]
  },
  {
   "cell_type": "markdown",
   "metadata": {},
   "source": [
    "## Playground\n",
    "\n"
   ]
  },
  {
   "cell_type": "markdown",
   "metadata": {},
   "source": [
    "Todo código de teste que não faz parte do seu experimento deve vir aqui. Este código não será considerado na avaliação.\n",
    "\n"
   ]
  },
  {
   "cell_type": "code",
   "execution_count": null,
   "metadata": {},
   "outputs": [],
   "source": []
  }
 ],
 "metadata": {
  "kernelspec": {
   "display_name": "ilumpy",
   "language": "python",
   "name": "ilumpy"
  },
  "language_info": {
   "codemirror_mode": {
    "name": "ipython",
    "version": 3
   },
   "file_extension": ".py",
   "mimetype": "text/x-python",
   "name": "python",
   "nbconvert_exporter": "python",
   "pygments_lexer": "ipython3",
   "version": "3.9.7"
  },
  "org": null
 },
 "nbformat": 4,
 "nbformat_minor": 4
}
