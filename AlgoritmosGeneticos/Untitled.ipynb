{
 "cells": [
  {
   "cell_type": "markdown",
   "id": "f918aef9-90c1-46a9-b586-2ab4ed2f7c37",
   "metadata": {},
   "source": [
    "inicio"
   ]
  },
  {
   "cell_type": "markdown",
   "id": "d6d2bca3-47bb-4223-af6f-d3c743d9afb9",
   "metadata": {},
   "source": [
    "# Desafio 1 - Definição da mistura para o fornecimento de energia ao ciclo Rankine\n",
    "\n",
    "#### Dupla: Haziel Sixto Baden Sanchez Hermoza, Tiago Marques Bigardi"
   ]
  },
  {
   "cell_type": "markdown",
   "id": "cfba88c0-0980-4175-b95b-5a22f87be359",
   "metadata": {},
   "source": [
    "##\n",
    "## Reagentes escolhidos:\n",
    "    Etanol e Acetato de Etila\n",
    "    \n",
    "    Ambos os compostos apresentam uma variação de entalpia de combustão relativamente alta \n",
    "    \n",
    "    Além do Etanol apresentar maior Entalpia de combustão, ele interage melhor com as moléculas orgânicas do Óleo de Eucalipto, devido à presença de um grupo Metil.\n",
    "\n",
    "## Critérios:\n",
    "    Entalpia de combustão dos compostos:\n",
    "    \n",
    "        Composto 1: Etanol        \n",
    "        \n",
    "        ΔH = -1370.7 kJ/mol\n",
    "        \n",
    "        Composto 2: Acetato de Etila\n",
    "        \n",
    "        ΔH = -2231 kJ/mol\n",
    "\n",
    "## Diagrama de Fases:\n",
    "\n"
   ]
  },
  {
   "cell_type": "markdown",
   "id": "9b2f6823-adda-4587-9590-effc19425daa",
   "metadata": {},
   "source": [
    "<dt>\n",
    "<center> \n",
    "<img src=\"\" style=\"width:400px;height:300px\"/>\n",
    "</center>\n",
    "</dt>"
   ]
  }
 ],
 "metadata": {
  "kernelspec": {
   "display_name": "ilumpy",
   "language": "python",
   "name": "ilumpy"
  },
  "language_info": {
   "codemirror_mode": {
    "name": "ipython",
    "version": 3
   },
   "file_extension": ".py",
   "mimetype": "text/x-python",
   "name": "python",
   "nbconvert_exporter": "python",
   "pygments_lexer": "ipython3",
   "version": "3.9.7"
  }
 },
 "nbformat": 4,
 "nbformat_minor": 5
}
