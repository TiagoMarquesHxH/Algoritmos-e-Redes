{
 "cells": [
  {
   "cell_type": "markdown",
   "metadata": {},
   "source": [
    "Aplicando restrições na busca\n",
    "=============================\n",
    "\n"
   ]
  },
  {
   "cell_type": "markdown",
   "metadata": {},
   "source": [
    "## Introdução\n",
    "\n"
   ]
  },
  {
   "cell_type": "markdown",
   "metadata": {},
   "source": [
    "Muitos problemas de otimização com relevância científica têm uma ou mais `restrições` que devem ser levadas em consideração na hora de resolver o problema.\n",
    "\n",
    "Lembra do `problema da mochila` que vimos em Lógica Computacional? Era um problema de otimização onde queríamos maximizar o valor dos itens colocados na mochila enquanto observávamos a restrição do peso total dos itens (do contrário, a mochila rasgava).\n",
    "\n",
    "Uma forma de considerar essas restrições nos problemas é aplicando uma `penalidade` na função objetivo.\n",
    "\n",
    "Vamos pensar como seria essa penalidade no problema da mochila: a função objetivo é maximizar o valor dos itens na mochila, então é um problema de maximização. A função objetivo pode ser a soma dos itens da mochila. Se fosse só isso, teríamos\n",
    "\n",
    "$$\n",
    "f = \\sum_{i, i \\in \\mathrm{mochila}}\\mathrm{valor}(i)\n",
    "$$\n",
    "\n",
    "No entanto, apenas essa função não resolve o problema! Precisamos levar em consideração o limite de peso da mochila! Para isso, penalizamos a função objetivo levando em consideração essa restrição:\n",
    "\n",
    "$f=\\begin{cases}\n",
    "0 & \\textrm{se peso > limite da mochila}\\\\\n",
    "\\sum_{i,i\\in\\mathrm{mochila}}(\\mathrm{valor}(i)) & \\textrm{se peso} \\leq \\textrm{limite da mochila}\n",
    "\\end{cases}$\n",
    "\n",
    "Agora finalmente podemos seguir em frente e resolver o problema.\n",
    "\n"
   ]
  },
  {
   "cell_type": "markdown",
   "metadata": {},
   "source": [
    "## Reflexões\n",
    "\n"
   ]
  },
  {
   "cell_type": "markdown",
   "metadata": {},
   "source": [
    "Se usarmos a equação de $f$ acima, qual será o valor de $f$ caso não exista uma solução para um certo problema da mochila?\n",
    "\n",
    "Na equação de $f$ acima nós usamos o valor zero para indicar que uma restrição do problema não foi satisfeita. Você consegue pensar em outra estratégia para penalizar soluções inválidas?\n",
    "\n"
   ]
  },
  {
   "cell_type": "markdown",
   "metadata": {},
   "source": [
    "## Objetivo\n",
    "\n"
   ]
  },
  {
   "cell_type": "markdown",
   "metadata": {},
   "source": [
    "Encontrar uma solução para o problema da mochila usando algoritmos genéticos. Considere que existem 10 itens diferentes (com pesos e valores diferentes) disponíveis para serem escolhidos.\n",
    "\n"
   ]
  },
  {
   "cell_type": "markdown",
   "metadata": {},
   "source": [
    "## Descrição do problema\n",
    "\n"
   ]
  },
  {
   "cell_type": "markdown",
   "metadata": {},
   "source": [
    "No problema da mochila você tem um número $n$ de itens disponíveis, cada um com um peso e um valor associado. Sua mochila tem a capacidade de carregar um número $p$ de quilogramas, sendo que mais que isso faz com que sua mochila rasgue e todos os itens dentro dela caiam no chão e se quebrem de maneira catastrófica (indesejado). Sua tarefa é encontrar um conjunto de itens (considerando os $n$ disponíveis) que maximize o valor contido dentro da mochila, porém que tenham um peso dentro da capacidade da mesma.\n",
    "\n"
   ]
  },
  {
   "cell_type": "markdown",
   "metadata": {},
   "source": [
    "## Importações\n",
    "\n"
   ]
  },
  {
   "cell_type": "code",
   "execution_count": 1,
   "metadata": {},
   "outputs": [],
   "source": [
    "import random\n",
    "\n",
    "from funcoes import computa_mochila\n",
    "from funcoes import funcao_objetivo_pop_mochila\n",
    "from funcoes import populacao_cb as cria_populacao_inicial\n",
    "from funcoes import selecao_roleta_max as funcao_selecao\n",
    "from funcoes import cruzamento_ponto_simples as funcao_cruzamento\n",
    "from funcoes import mutacao_cb as funcao_mutacao"
   ]
  },
  {
   "cell_type": "markdown",
   "metadata": {},
   "source": [
    "## Códigos e discussão\n",
    "\n"
   ]
  },
  {
   "cell_type": "markdown",
   "metadata": {},
   "source": [
    "Pela leitura da problemática do problema, e considerando que um item da mochila vai ter um peso e um valor em dinheiros, que no total será o fitness daquele indivíduo, fica claro que podemos utilizar um dicionário para criar os objetos possíveis de se colocar na mochila.\n",
    "\n",
    "A partir deste dicionário, podemos tomar uma abordagem de que, se um objeto estiver presente na mochila, o indivíduo terá um valor de gene representando isso, e se não, terá outro valor. Isso se assemelha ao experimento das caixas binárias, logo, podemos utilizar algumas funções do experimento das caixas binárias para a construção deste algorítmo, e formar uma lista representando a mochila, que terá os valores de gene onde 1 representa que um objeto está presente naquele índice, e 0 indica que não há objetos no índice.\n",
    "\n",
    "Podemos criar uma função que compute o valor total e o peso total de uma mochila, baseado na presença ou não dos objetos, e com isso, retornar um indivíduo contendo uma combinação de genes que represente uma combinação de objetos da mochila, com seu respectivo valor e peso, e durante o processo de seleção e cruzamento selecionar o candidato que tenha o melhor fitness baseado no melhor peso e valor da mochila."
   ]
  },
  {
   "cell_type": "code",
   "execution_count": 2,
   "metadata": {},
   "outputs": [],
   "source": [
    "### CONSTANTES\n",
    "\n",
    "# relacionadas à busca\n",
    "TAMANHO_POP = 20\n",
    "NUM_GERACOES = 100\n",
    "CHANCE_CRUZAMENTO = 0.5\n",
    "CHANCE_MUTACAO = 0.05\n",
    "\n",
    "# relacionadas ao problema a ser resolvido\n",
    "LIMITE_DE_PESO = 15\n",
    "OBJETOS = {\n",
    "    # dicionário baseado no que vocês enviaram na aula de Lógica\n",
    "\n",
    "    \"vinil falsificado da volta do One Direction\": {\n",
    "        \"peso\": 2,\n",
    "        \"valor\": 2500,\n",
    "    },\n",
    "    \"Harry Potter: ele voltou, confia!\": {\n",
    "        \"peso\": 3,\n",
    "        \"valor\": 1500,\n",
    "    },\n",
    "    \"Quadrinho super raro do Aranha-Homem da vida real\": {\n",
    "        \"peso\": 3,\n",
    "        \"valor\": 7000,\n",
    "    },\n",
    "    \"mesa dobrável para laptop\": {\n",
    "        \"peso\": 3,\n",
    "        \"valor\": 150,\n",
    "    },\n",
    "    \"tablet\": {\n",
    "        \"peso\": 0.6,\n",
    "        \"valor\": 2400,\n",
    "    },\n",
    "     \"teclado musical\": {\n",
    "        \"peso\": 3.5,\n",
    "        \"valor\": 3000,\n",
    "    },\n",
    "    \"bicicleta\": {\n",
    "        \"peso\": 16,\n",
    "        \"valor\": 1000,\n",
    "    },\n",
    "    \"lições em dia\": {\n",
    "        \"peso\": 8,\n",
    "        \"valor\": 5000,\n",
    "    },\n",
    "    \"energético\": {\n",
    "        \"peso\": 2,\n",
    "        \"valor\": 1500,\n",
    "    },\n",
    "    \"docinhos para o stress\": {\n",
    "        \"peso\": 5,\n",
    "        \"valor\": 3000,\n",
    "    },\n",
    "}\n",
    "NUM_OBJETOS = len(OBJETOS)\n",
    "ORDEM_DOS_NOMES = list(sorted(OBJETOS.keys()))"
   ]
  },
  {
   "cell_type": "code",
   "execution_count": 3,
   "metadata": {},
   "outputs": [],
   "source": [
    "# Funções locais\n",
    "\n",
    "def funcao_objetivo_pop(populacao):\n",
    "    return funcao_objetivo_pop_mochila(\n",
    "        populacao, OBJETOS, LIMITE_DE_PESO, ORDEM_DOS_NOMES\n",
    "    )"
   ]
  },
  {
   "cell_type": "code",
   "execution_count": 5,
   "metadata": {},
   "outputs": [
    {
     "name": "stdout",
     "output_type": "stream",
     "text": [
      "Maior valor: 15500 | Peso: 13.5\n",
      "\n",
      "Você deve pegar os seguintes itens:\n",
      "+ Quadrinho super raro do Aranha-Homem da vida real\n",
      "+ docinhos para o stress\n",
      "+ teclado musical\n",
      "+ vinil falsificado da volta do One Direction\n",
      "\n",
      "Com isso, sua mochila terá o valor de 15500 dabloons e peso de 13.5 unidades de massa.\n"
     ]
    }
   ],
   "source": [
    "# Busca por algoritmo genético\n",
    "\n",
    "populacao = cria_populacao_inicial(TAMANHO_POP, NUM_OBJETOS)\n",
    "\n",
    "# variaveis para o hall da fama\n",
    "melhor_fitness_ja_visto = -float(\"inf\") # Colocamos -float inf para que o valor de melhor fitness ja visto seja fácilmente substituido pelo primeiro valor que for passado como fit\n",
    "melhor_individuo_ja_visto = [0] * NUM_OBJETOS\n",
    "\n",
    "for n in range(NUM_GERACOES):\n",
    "\n",
    "    # Seleção\n",
    "    fitness = funcao_objetivo_pop(populacao)\n",
    "    populacao = funcao_selecao(populacao, fitness)\n",
    "\n",
    "    # Cruzamento\n",
    "    pais = populacao[0::2]\n",
    "    maes = populacao[1::2]\n",
    "\n",
    "    contador = 0\n",
    "\n",
    "    for pai, mae in zip(pais, maes):\n",
    "        if random.random() <= CHANCE_CRUZAMENTO:\n",
    "            filho1, filho2 = funcao_cruzamento(pai, mae)\n",
    "            populacao[contador] = filho1\n",
    "            populacao[contador + 1] = filho2\n",
    "\n",
    "        contador = contador + 2\n",
    "\n",
    "    # Mutação\n",
    "    for n in range(len(populacao)):\n",
    "        if random.random() <= CHANCE_MUTACAO:\n",
    "            individuo = populacao[n]\n",
    "            populacao[n] = funcao_mutacao(individuo)\n",
    "\n",
    "    # melhor individuo já visto até agora (hall da fama)\n",
    "    fitness = funcao_objetivo_pop(populacao)\n",
    "    maior_fitness = max(fitness)\n",
    "    posicao = fitness.index(maior_fitness)\n",
    "    individuo = populacao[posicao].copy()\n",
    "    valor, peso = computa_mochila(individuo, OBJETOS, ORDEM_DOS_NOMES)\n",
    "    if maior_fitness > melhor_fitness_ja_visto and peso <= LIMITE_DE_PESO:\n",
    "        melhor_fitness_ja_visto = maior_fitness\n",
    "        melhor_individuo_ja_visto = individuo\n",
    "        print(f\"Maior valor: {valor} | Peso: {peso}\")\n",
    "\n",
    "\n",
    "# reportando o melhor individuo encontrado\n",
    "print()\n",
    "print(\"Você deve pegar os seguintes itens:\")\n",
    "for pega_ou_nao, item in zip(melhor_individuo_ja_visto, ORDEM_DOS_NOMES):\n",
    "    if pega_ou_nao == 1:\n",
    "        print(\"+\", item)\n",
    "print()\n",
    "valor_total, peso_total = computa_mochila(\n",
    "    melhor_individuo_ja_visto, OBJETOS, ORDEM_DOS_NOMES\n",
    ")\n",
    "print(\n",
    "    f\"Com isso, sua mochila terá o valor de {valor_total} dabloons \"\n",
    "    f\"e peso de {peso_total} unidades de massa.\"\n",
    ")"
   ]
  },
  {
   "cell_type": "markdown",
   "metadata": {},
   "source": [
    "**Desafio**: resolva o experimento considerando uma busca em grade para encontrar a melhor resposta."
   ]
  },
  {
   "cell_type": "markdown",
   "metadata": {},
   "source": [
    "## Conclusão\n",
    "\n",
    "Neste experimento nós tratamos o problema da mochila, onde queremos armazenar itens em uma mochila e ter um maior lucro no final baseado nos valores do item. Porém, não podemos considerar apenas os valores dos itens para armazenar, pois a mochila tem um ***limite*** de peso que pode suportar, logo é necessário criar uma nova função de suporte que compute o peso e o valor de cada item para o cálculo da função objetivo, verificando se o indivíduo contendo os genes que representam os itens é um indivíduo ***válido*** para ser um candidato do nosso problema.\n",
    "\n",
    "Logo de início, adotamos a estratégia de criarmos um dicionário contendo valor e peso de cada item que pode ser colocado na mochila, e definimos que um indivíduo será composto por genes binários (ou seja, que assumem o valor 0 ou 1). Os genes representarão se um item está presente naquele individuo (1) ou não (0), e assim teremos diversos indivíduos contendo itens variados.\n",
    "Foram utilizadas diversas funções do problema das caixas binárias como mutação e seleção, e esta ultima realizará a seleção baseando-se na condição se o indivíduo é válido (não excede o peso).\n",
    "Na função objetivo, aplicamos uma ***restrição*** aos valores de mochila encontrados, pois se temos um valor de mochila maior que o limite de peso desta, o valor de fitness retornado será de 0.01, convidando o algoritmo a não utilizar este valor durante a seleção, pois o candidato viola a restrição.\n",
    "\n",
    "Por fim, como temos um problema de maximização, a variável ***menor_fitness_já_visto*** tem valor -float (\"inf\"), para que esta seja facilmente substituida pelo primeiro valor de fitness que o algoritmo achar.\n",
    "\n",
    "Vemos então que este algoritmo consegue resolver o problema da mochila respeitando as restrições impostas, mas pode não ser o método mais efetivo visto que realiza uma busca aleatória ao percorrer todos os candidatos e todos os genes contendo valores e pesos"
   ]
  },
  {
   "cell_type": "markdown",
   "metadata": {},
   "source": [
    "## Playground\n",
    "\n"
   ]
  },
  {
   "cell_type": "markdown",
   "metadata": {},
   "source": [
    "Os indivíduos são caixas binárias, com os genes assumindo valores de 0 e 1, onde 0 representa que o item não está na mochila, e 1 que o item está na mochila.\n",
    "O 0.01 indica que, como temos um problema de maximização, a função retornar um fitness de 0.01 meio que convida o algoritmo a nao usar esse valor\n",
    "Só queremos que o hall da fama tenha candidados que podemos usar"
   ]
  }
 ],
 "metadata": {
  "kernelspec": {
   "display_name": "ilumpy",
   "language": "python",
   "name": "ilumpy"
  },
  "language_info": {
   "codemirror_mode": {
    "name": "ipython",
    "version": 3
   },
   "file_extension": ".py",
   "mimetype": "text/x-python",
   "name": "python",
   "nbconvert_exporter": "python",
   "pygments_lexer": "ipython3",
   "version": "3.9.7"
  },
  "org": null
 },
 "nbformat": 4,
 "nbformat_minor": 4
}
